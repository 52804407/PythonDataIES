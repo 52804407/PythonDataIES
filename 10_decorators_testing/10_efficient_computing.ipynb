{
 "cells": [
  {
   "cell_type": "markdown",
   "metadata": {},
   "source": [
    "# Notes on efficient computing\n",
    "\n",
    "by Martin Hronec\n",
    "\n",
    "\n",
    "### Contents\n",
    "\n",
    "0. [Midterm solution](#midterm)\n",
    "1. [Timing](#timing)\n",
    "2. [Profiling](#profiling)\n",
    "3. [Generators](#generators)\n",
    "4. [Iterators](#iterators)\n"
   ]
  },
  {
   "cell_type": "code",
   "execution_count": 1,
   "metadata": {},
   "outputs": [],
   "source": [
    "# system-specific functions\n",
    "import sys"
   ]
  },
  {
   "cell_type": "markdown",
   "metadata": {},
   "source": [
    "## Efficient computing\n",
    "\n",
    "* what is meant by an **efficient Python code**\n",
    "    * minimal completion time (fast runtime)\n",
    "    * minimal resource consumption (small memory footprint)\n",
    "\n",
    "\n",
    "* what is meant by **Pythonic**?\n",
    "    * focus on readability\n",
    "    * using Python's constructs as intended\n",
    "    * the Zen of Python\n",
    "\n",
    "* sometimes at odds with eachother\n",
    "* optimize only what needs optimizing:\n",
    "    1. Get it right\n",
    "    2. Test it's right\n",
    "    3. Profile if slow\n",
    "    4. Optimise\n",
    "    5. Repeat from 2.\n",
    "\n"
   ]
  },
  {
   "cell_type": "markdown",
   "metadata": {},
   "source": [
    "### Building with build-ins\n",
    "\n",
    "* Python comes with \"batteries included\" (the Python Standard Library)\n",
    "    they help in building an efficient code\n",
    "* built-in types: `list`,`tuple`,`set`,`dict`\n",
    "* built-in functions: `range()`, `round()`, `enumerate()`, `map()`, `zip()`\n",
    "* built-in modules: `os`, `sys`, `itertools`, `collections`, `sets`, etc.\n"
   ]
  },
  {
   "cell_type": "markdown",
   "metadata": {},
   "source": [
    "### Examining runtime (timing and profiling code)\n",
    "\n",
    "* why time code?\n",
    "    * allows us to pick the optimal coding implementation\n",
    "* we have already seen some ipython magic earlier (`%timeit` and `%%time`)\n",
    "* there is a `time` module for scripts"
   ]
  },
  {
   "cell_type": "code",
   "execution_count": 2,
   "metadata": {},
   "outputs": [
    {
     "name": "stdout",
     "output_type": "stream",
     "text": [
      "0.012430906295776367\n"
     ]
    }
   ],
   "source": [
    "import time\n",
    "start = time.time()\n",
    "a = range(100000)\n",
    "b = []\n",
    "for i in a:\n",
    "    b.append(i*2)\n",
    "end = time.time()\n",
    "print(end - start)"
   ]
  },
  {
   "cell_type": "code",
   "execution_count": 3,
   "metadata": {},
   "outputs": [
    {
     "data": {
      "text/plain": [
       "1606842549.4879186"
      ]
     },
     "execution_count": 3,
     "metadata": {},
     "output_type": "execute_result"
    }
   ],
   "source": [
    "time.time()"
   ]
  },
  {
   "cell_type": "code",
   "execution_count": 4,
   "metadata": {},
   "outputs": [
    {
     "data": {
      "text/plain": [
       "51.66031859239547"
      ]
     },
     "execution_count": 4,
     "metadata": {},
     "output_type": "execute_result"
    }
   ],
   "source": [
    "time.time() / (60*60*24*30*12)"
   ]
  },
  {
   "cell_type": "markdown",
   "metadata": {},
   "source": [
    "* **timeit** module measures an execution time of small code snippets\n",
    "\n",
    "* calculate runtime with IPython magic command `%timeit` (magic command `%lsmagic`)\n",
    "    * set the number of runs (-r) and/or loops (-n)\n",
    "    * use `%%` in front of timeing for cell magic mode\n",
    "    * save the output to a variable (`-o`)"
   ]
  },
  {
   "cell_type": "code",
   "execution_count": 5,
   "metadata": {},
   "outputs": [
    {
     "name": "stdout",
     "output_type": "stream",
     "text": [
      "Object `%timeit;` not found.\n"
     ]
    }
   ],
   "source": [
    "?%timeit;"
   ]
  },
  {
   "cell_type": "code",
   "execution_count": 6,
   "metadata": {},
   "outputs": [
    {
     "name": "stdout",
     "output_type": "stream",
     "text": [
      "7.66 µs ± 1.23 µs per loop (mean ± std. dev. of 2 runs, 10 loops each)\n"
     ]
    }
   ],
   "source": [
    "import numpy as np\n",
    "# number of runs: 2, number of loops: 10\n",
    "%timeit -r2 -n10 rand_nums = np.random.rand(1000)\n"
   ]
  },
  {
   "cell_type": "code",
   "execution_count": 7,
   "metadata": {},
   "outputs": [
    {
     "name": "stdout",
     "output_type": "stream",
     "text": [
      "6.44 µs ± 205 ns per loop (mean ± std. dev. of 7 runs, 100000 loops each)\n"
     ]
    }
   ],
   "source": [
    "# save timeit results into a variable \n",
    "times =  %timeit -o rand_nums = np.random.rand(1000)"
   ]
  },
  {
   "cell_type": "code",
   "execution_count": 8,
   "metadata": {},
   "outputs": [
    {
     "data": {
      "text/plain": [
       "{'loops': 100000,\n",
       " 'repeat': 7,\n",
       " 'best': 6.2140485900090425e-06,\n",
       " 'worst': 6.764381769971805e-06,\n",
       " 'all_runs': [0.6518236590018205,\n",
       "  0.651060124997457,\n",
       "  0.6764381769971806,\n",
       "  0.6632696870001382,\n",
       "  0.622884267999325,\n",
       "  0.6214048590009043,\n",
       "  0.6226210429995263],\n",
       " 'compile_time': 4.599999999999049e-05,\n",
       " '_precision': 3,\n",
       " 'timings': [6.518236590018205e-06,\n",
       "  6.5106012499745704e-06,\n",
       "  6.764381769971805e-06,\n",
       "  6.632696870001382e-06,\n",
       "  6.228842679993249e-06,\n",
       "  6.2140485900090425e-06,\n",
       "  6.226210429995262e-06]}"
      ]
     },
     "execution_count": 8,
     "metadata": {},
     "output_type": "execute_result"
    }
   ],
   "source": [
    "times.__dict__"
   ]
  },
  {
   "cell_type": "code",
   "execution_count": 9,
   "metadata": {},
   "outputs": [
    {
     "name": "stdout",
     "output_type": "stream",
     "text": [
      "217 ms ± 1.38 ms per loop (mean ± std. dev. of 7 runs, 1 loop each)\n"
     ]
    }
   ],
   "source": [
    "%%timeit\n",
    "total = 0\n",
    "for i in range(1000):\n",
    "    for j in range(1000):\n",
    "        total += i * (-1) ** j"
   ]
  },
  {
   "cell_type": "markdown",
   "metadata": {},
   "source": [
    " \n",
    "* when repeating operation is not a good idea, use `%time`\n",
    "* `%timeit` does heavy lifting for you, i.e. no garbage collection, etc. (things that might affect the timing)\n",
    "\n"
   ]
  },
  {
   "cell_type": "code",
   "execution_count": 10,
   "metadata": {},
   "outputs": [],
   "source": [
    "a = np.random.permutation(1000000)"
   ]
  },
  {
   "cell_type": "code",
   "execution_count": 11,
   "metadata": {},
   "outputs": [
    {
     "name": "stdout",
     "output_type": "stream",
     "text": [
      "CPU times: user 69.7 ms, sys: 0 ns, total: 69.7 ms\n",
      "Wall time: 68.3 ms\n"
     ]
    }
   ],
   "source": [
    "%time a.sort()"
   ]
  },
  {
   "cell_type": "code",
   "execution_count": 12,
   "metadata": {},
   "outputs": [
    {
     "name": "stdout",
     "output_type": "stream",
     "text": [
      "7.84 ms ± 79.7 µs per loop (mean ± std. dev. of 7 runs, 100 loops each)\n"
     ]
    }
   ],
   "source": [
    "%timeit a.sort()"
   ]
  },
  {
   "cell_type": "markdown",
   "metadata": {},
   "source": [
    "### Code profiling for runtime\n",
    "* detailed stats on frequency and duration of function calls\n",
    "* line-by-line analyses\n",
    "* package used: [line_profiler](https://github.com/rkern/line_profiler)\n"
   ]
  },
  {
   "cell_type": "code",
   "execution_count": 13,
   "metadata": {},
   "outputs": [],
   "source": [
    "%load_ext line_profiler"
   ]
  },
  {
   "cell_type": "code",
   "execution_count": 14,
   "metadata": {},
   "outputs": [],
   "source": [
    "def sum_of_lists(N):\n",
    "    total = 0\n",
    "    for i in range(5):\n",
    "        L = [j ^ (i**j) for j in range(N)]\n",
    "        total += sum(L)\n",
    "    return total"
   ]
  },
  {
   "cell_type": "code",
   "execution_count": 15,
   "metadata": {},
   "outputs": [
    {
     "name": "stdout",
     "output_type": "stream",
     "text": [
      "Object `%lprun;` not found.\n"
     ]
    }
   ],
   "source": [
    "?%lprun;"
   ]
  },
  {
   "cell_type": "code",
   "execution_count": 16,
   "metadata": {},
   "outputs": [
    {
     "data": {
      "text/plain": [
       "Timer unit: 1e-06 s\n",
       "\n",
       "Total time: 0.064148 s\n",
       "File: <ipython-input-14-0e483e4cb579>\n",
       "Function: sum_of_lists at line 1\n",
       "\n",
       "Line #      Hits         Time  Per Hit   % Time  Line Contents\n",
       "==============================================================\n",
       "     1                                           def sum_of_lists(N):\n",
       "     2         1          2.0      2.0      0.0      total = 0\n",
       "     3         6          7.0      1.2      0.0      for i in range(5):\n",
       "     4         5      61674.0  12334.8     96.1          L = [j ^ (i**j) for j in range(N)]\n",
       "     5         5       2464.0    492.8      3.8          total += sum(L)\n",
       "     6         1          1.0      1.0      0.0      return total"
      ]
     },
     "metadata": {},
     "output_type": "display_data"
    }
   ],
   "source": [
    "%lprun -f sum_of_lists sum_of_lists(5000)"
   ]
  },
  {
   "cell_type": "markdown",
   "metadata": {},
   "source": [
    "* shows where the is the time bottle-neck\n",
    "    * Time is in microseconds\n",
    "* for more info on available timing options: `%lprun?`\n"
   ]
  },
  {
   "cell_type": "markdown",
   "metadata": {},
   "source": [
    "## Code profiling for memory usage\n",
    "* code's memory footprint (the amount of memory an operation uses)\n",
    "* using package *memory_profiler* (also as an IPyhton extension)\n",
    "* contains 2 notably useful magic functions:\n",
    "    * `%memit`: memory-measuring equivalent of `%timeit`\n",
    "    * `%mprun`: memory-measuring equivalent of `%lprun` "
   ]
  },
  {
   "cell_type": "code",
   "execution_count": 17,
   "metadata": {},
   "outputs": [],
   "source": [
    "# package for memory profiling\n",
    "%load_ext memory_profiler"
   ]
  },
  {
   "cell_type": "code",
   "execution_count": 18,
   "metadata": {},
   "outputs": [
    {
     "data": {
      "text/plain": [
       "9104"
      ]
     },
     "execution_count": 18,
     "metadata": {},
     "output_type": "execute_result"
    }
   ],
   "source": [
    "# OK but only a size (in bytes) of an individual object\n",
    "sys.getsizeof([*range(1000)])"
   ]
  },
  {
   "cell_type": "markdown",
   "metadata": {},
   "source": [
    "* for line-by-line description: `%mprun`\n",
    "    * gives us a summary of the memory use\n",
    "    * works only for functions defined separate modules rather than the nb itself\n",
    "* use `%%file` magic to create a simple module, which will contain code we want to profile"
   ]
  },
  {
   "cell_type": "code",
   "execution_count": 19,
   "metadata": {},
   "outputs": [
    {
     "name": "stdout",
     "output_type": "stream",
     "text": [
      "Overwriting mprun_demo.py\n"
     ]
    }
   ],
   "source": [
    "%%file mprun_demo.py\n",
    "def sum_of_lists(N):\n",
    "    total = 0\n",
    "    for i in range(5):\n",
    "        L = [j ^ (j >> i) for j in range(N)]\n",
    "        total += sum(L)\n",
    "        del L # remove reference to L\n",
    "    return total\n",
    "\n",
    "def copies_of_lists(N):\n",
    "    d = {}\n",
    "    for i in range(N):\n",
    "        d[i] = [1,2,3]\n",
    "    return d\n"
   ]
  },
  {
   "cell_type": "code",
   "execution_count": 20,
   "metadata": {},
   "outputs": [
    {
     "name": "stdout",
     "output_type": "stream",
     "text": [
      "\n"
     ]
    },
    {
     "data": {
      "text/plain": [
       "Filename: /home/crozier/projects/phd/teaching/DPP_IES/10/mprun_demo.py\n",
       "\n",
       "Line #    Mem usage    Increment  Occurences   Line Contents\n",
       "============================================================\n",
       "     1     77.7 MiB     77.7 MiB           1   def sum_of_lists(N):\n",
       "     2     77.7 MiB      0.0 MiB           1       total = 0\n",
       "     3     77.7 MiB      0.0 MiB           6       for i in range(5):\n",
       "     4     77.7 MiB      0.0 MiB        5015           L = [j ^ (j >> i) for j in range(N)]\n",
       "     5     77.7 MiB      0.0 MiB           5           total += sum(L)\n",
       "     6     77.7 MiB      0.0 MiB           5           del L # remove reference to L\n",
       "     7     77.7 MiB      0.0 MiB           1       return total"
      ]
     },
     "metadata": {},
     "output_type": "display_data"
    }
   ],
   "source": [
    "from mprun_demo import sum_of_lists\n",
    "%mprun -f sum_of_lists sum_of_lists(1000)"
   ]
  },
  {
   "cell_type": "code",
   "execution_count": 21,
   "metadata": {},
   "outputs": [
    {
     "name": "stdout",
     "output_type": "stream",
     "text": [
      "\n"
     ]
    },
    {
     "data": {
      "text/plain": [
       "Filename: /home/crozier/projects/phd/teaching/DPP_IES/10/mprun_demo.py\n",
       "\n",
       "Line #    Mem usage    Increment  Occurences   Line Contents\n",
       "============================================================\n",
       "     9     77.7 MiB     77.7 MiB           1   def copies_of_lists(N):\n",
       "    10     77.7 MiB      0.0 MiB           1       d = {}\n",
       "    11     77.8 MiB      0.1 MiB        1001       for i in range(N):\n",
       "    12     77.8 MiB      0.0 MiB        1000           d[i] = [1,2,3]\n",
       "    13     77.8 MiB      0.0 MiB           1       return d"
      ]
     },
     "metadata": {},
     "output_type": "display_data"
    }
   ],
   "source": [
    "from mprun_demo import copies_of_lists\n",
    "%mprun -f copies_of_lists copies_of_lists(1000)"
   ]
  },
  {
   "cell_type": "markdown",
   "metadata": {},
   "source": [
    "* the Increment column gives us how much each line affects the total memory budget\n",
    "* for more info on `%memit` and `% mprun`:"
   ]
  },
  {
   "cell_type": "code",
   "execution_count": 22,
   "metadata": {},
   "outputs": [
    {
     "name": "stdout",
     "output_type": "stream",
     "text": [
      "peak memory: 78.35 MiB, increment: 0.51 MiB\n"
     ]
    }
   ],
   "source": [
    "%memit sum_of_lists(10000) "
   ]
  },
  {
   "cell_type": "markdown",
   "metadata": {},
   "source": [
    "# Gaining efficiencies\n",
    "\n",
    "## Generators\n",
    "* functions that can be paused and return on the fly (returning **an iterator**)\n",
    "* they are lazy!\n",
    "    * produce items one at time\n",
    "    * and only when asked\n",
    "* much more efficient when working with big data\n",
    "    * exampe from Torch DataLoader\n",
    "* define function as you normally would, only replace `return` statement with the `yield` statement\n",
    "* the `yield` statement pauses the function and saves the local state (so that it can be resumed right where it left off)\n",
    "    * it returns a generator object which is used to control execution"
   ]
  },
  {
   "cell_type": "code",
   "execution_count": 23,
   "metadata": {},
   "outputs": [],
   "source": [
    "def name_generator():\n",
    "    yield('Vitek')\n",
    "    yield('Honza')"
   ]
  },
  {
   "cell_type": "code",
   "execution_count": 24,
   "metadata": {},
   "outputs": [
    {
     "data": {
      "text/plain": [
       "\u001b[0;31mDocstring:\u001b[0m\n",
       "next(iterator[, default])\n",
       "\n",
       "Return the next item from the iterator. If default is given and the iterator\n",
       "is exhausted, it is returned instead of raising StopIteration.\n",
       "\u001b[0;31mType:\u001b[0m      builtin_function_or_method\n"
      ]
     },
     "metadata": {},
     "output_type": "display_data"
    }
   ],
   "source": [
    "?next"
   ]
  },
  {
   "cell_type": "code",
   "execution_count": 25,
   "metadata": {},
   "outputs": [],
   "source": [
    "names = name_generator()"
   ]
  },
  {
   "cell_type": "code",
   "execution_count": 26,
   "metadata": {},
   "outputs": [
    {
     "data": {
      "text/plain": [
       "'Vitek'"
      ]
     },
     "execution_count": 26,
     "metadata": {},
     "output_type": "execute_result"
    }
   ],
   "source": [
    "next(names)"
   ]
  },
  {
   "cell_type": "code",
   "execution_count": 27,
   "metadata": {},
   "outputs": [
    {
     "data": {
      "text/plain": [
       "'Honza'"
      ]
     },
     "execution_count": 27,
     "metadata": {},
     "output_type": "execute_result"
    }
   ],
   "source": [
    "next(names)"
   ]
  },
  {
   "cell_type": "code",
   "execution_count": 28,
   "metadata": {},
   "outputs": [
    {
     "ename": "StopIteration",
     "evalue": "",
     "output_type": "error",
     "traceback": [
      "\u001b[0;31m---------------------------------------------------------------------------\u001b[0m",
      "\u001b[0;31mStopIteration\u001b[0m                             Traceback (most recent call last)",
      "\u001b[0;32m<ipython-input-28-f695cb99606c>\u001b[0m in \u001b[0;36m<module>\u001b[0;34m\u001b[0m\n\u001b[0;32m----> 1\u001b[0;31m \u001b[0mnext\u001b[0m\u001b[0;34m(\u001b[0m\u001b[0mnames\u001b[0m\u001b[0;34m)\u001b[0m\u001b[0;34m\u001b[0m\u001b[0;34m\u001b[0m\u001b[0m\n\u001b[0m",
      "\u001b[0;31mStopIteration\u001b[0m: "
     ]
    }
   ],
   "source": [
    "next(names)"
   ]
  },
  {
   "cell_type": "code",
   "execution_count": null,
   "metadata": {},
   "outputs": [],
   "source": [
    "def countdown(num):\n",
    "    print('Starting')\n",
    "    while num > 0:\n",
    "        yield num\n",
    "        num -= 1"
   ]
  },
  {
   "cell_type": "code",
   "execution_count": null,
   "metadata": {},
   "outputs": [],
   "source": [
    "# calling the function (generator) does not execute it\n",
    "val = countdown(5)\n",
    "val"
   ]
  },
  {
   "cell_type": "markdown",
   "metadata": {},
   "source": [
    "* generators objects execute when `next()` is called\n",
    "* `next()` for the first time: execution begins at the start of the function body and continues until the next yield statement where the value to the right of the statement is returned\n",
    "* subsequent calls to next() continue from the yield statement to the end of the function, and loop around and continue from the start of the function body until another yield is called\n",
    "*  If yield is not called (which in our case means we don’t go into the if function because num <= 0) a StopIteration exception is raised:"
   ]
  },
  {
   "cell_type": "code",
   "execution_count": null,
   "metadata": {},
   "outputs": [],
   "source": [
    "next(val)"
   ]
  },
  {
   "cell_type": "code",
   "execution_count": null,
   "metadata": {},
   "outputs": [],
   "source": [
    "next(val)\n",
    "next(val)\n",
    "next(val)\n",
    "next(val)"
   ]
  },
  {
   "cell_type": "markdown",
   "metadata": {},
   "source": [
    "* generator expressions\n",
    "    * just like list comprehension, generators can be used in the same manner"
   ]
  },
  {
   "cell_type": "code",
   "execution_count": null,
   "metadata": {},
   "outputs": [],
   "source": [
    "my_list = ['a','b','c','d']\n",
    "gen_obj = (x for x in my_list)\n",
    "for val in gen_obj:\n",
    "    print(val)"
   ]
  },
  {
   "cell_type": "markdown",
   "metadata": {},
   "source": [
    "* the *parens* on either side of the second line denoting a generator expression, which, for the most part, does the same thing that a list comprehension does, but does it lazily"
   ]
  },
  {
   "cell_type": "code",
   "execution_count": null,
   "metadata": {},
   "outputs": [],
   "source": [
    "%timeit g = (i * 2 for i in range(1000) if i % 3 == 0 or i % 5 == 0)"
   ]
  },
  {
   "cell_type": "code",
   "execution_count": null,
   "metadata": {},
   "outputs": [],
   "source": [
    "%timeit l = [i * 2 for i in range(1000) if i % 3 == 0 or i % 5 == 0]"
   ]
  },
  {
   "cell_type": "markdown",
   "metadata": {},
   "source": [
    "* don't mix up the syntax of a list comprehension with a generator expression (`[]` vs `()`\n",
    "    * generator expressions can run *slower* (because of the overhead of function calls)\n",
    "    * modify parameter in range to see the effect\n",
    "* however, **generator expressions are drastically faster when the size of your data is larger than the available memory**\n",
    "* we will look at [dask](https://dask.org/) during the next lecture"
   ]
  },
  {
   "cell_type": "markdown",
   "metadata": {},
   "source": [
    "## Iterators\n",
    "\n",
    "* considered to be a \"milestone\" for any serious Pythonista\n",
    "* consider the humble *for-in loop*\n",
    "* but how does loop constructs work behind the scenes?\n",
    "    * the Python's iterator protocol:\n",
    "        * Objects that support the `__iter__` and `__next__` dunder methods automatically work with for-in loops.\n",
    "* below is a class with bare-bones iterator protocol in Python "
   ]
  },
  {
   "cell_type": "code",
   "execution_count": null,
   "metadata": {},
   "outputs": [],
   "source": [
    "class Repeater:\n",
    "    def __init__(self, value):\n",
    "        self.value = value\n",
    "\n",
    "    def __iter__(self):\n",
    "        return RepeaterIterator(self)\n",
    "    \n",
    "    def __next__(self):\n",
    "        return self.value"
   ]
  },
  {
   "cell_type": "markdown",
   "metadata": {},
   "source": [
    "* looks like a straightforward Python class but:\n",
    "* methods `__iter__` and `__next__` are key to make a Python object iterable"
   ]
  },
  {
   "cell_type": "code",
   "execution_count": null,
   "metadata": {},
   "outputs": [],
   "source": [
    "repeater = Repeater('Hello')\n",
    "\n",
    "# working iterator\n",
    "for i,item in enumerate(repeater):\n",
    "    if i < 10:\n",
    "        print(i,item);\n",
    "    else:\n",
    "        break"
   ]
  },
  {
   "cell_type": "code",
   "execution_count": null,
   "metadata": {},
   "outputs": [],
   "source": [
    "# more explicit of what goes on behind the scene\n",
    "repeater = Repeater('Hello')\n",
    "iterator = repeater.__iter__()\n",
    "i = 0\n",
    "while i<10: # (alternatively `while True`)\n",
    "    item = iterator.__next__()\n",
    "    print(i,item)\n",
    "    i = i + 1"
   ]
  },
  {
   "cell_type": "markdown",
   "metadata": {},
   "source": [
    "* prepares the iterator object (by calling `__iter__` method)\n",
    "* loop repeatedly calls the `__next__` method\n",
    "* because there’s never more than one element “in flight”, this approach is highly memory-efficient\n",
    "* in  abstract terms, iterators provide a common interface that allows you to process every element of a container while being completely isolated from the container’s internal structure\n",
    "* whether you’re dealing with a list of elements, a dictionary, an infinite sequence like the one provided by our Repeater class, or another sequence type—all of that is just an implementation detail. Every single one of these objects can be traversed in the same way by the power of iterators.\n",
    "* we can replace the calls to `__iter__` and  `__next__` with calls to Python’s built-in functions `iter()` and `next()`\n",
    "    * other Python's built-in functions with the same purpose of a clean facade: `len(x)` for `x.__len__` \n",
    "    \n",
    "* who want's to iterate forever?\n",
    "\n",
    "    * how to write an iterator that eventually stops generating?\n",
    "\n",
    "* StopIteration exception to signal we’ve exhausted all of the available values in the iterator\n",
    "\n",
    "    * use exceptions for control of iterators flow\n",
    "\n"
   ]
  },
  {
   "cell_type": "code",
   "execution_count": null,
   "metadata": {},
   "outputs": [],
   "source": [
    "my_list = [1,2,3]\n",
    "iterator = iter(my_list)\n",
    "next(iterator)\n",
    "next(iterator)\n",
    "next(iterator)\n"
   ]
  },
  {
   "cell_type": "code",
   "execution_count": null,
   "metadata": {},
   "outputs": [],
   "source": [
    "# if I keep requesting more values\n",
    "next(iterator)"
   ]
  },
  {
   "cell_type": "markdown",
   "metadata": {},
   "source": [
    "* iterators can't be reset (\"once they’re exhausted they’re supposed to raise StopIteration every time next() is called on them\"\n",
    "* we can implement the above notions into our code\n",
    "   * iteration stops after the number of repetitions defined in the max_repeats parameter"
   ]
  },
  {
   "cell_type": "code",
   "execution_count": null,
   "metadata": {},
   "outputs": [],
   "source": [
    "class BoundedRepeater:\n",
    "    def __init__(self, value, max_repeats):\n",
    "        self.value = value\n",
    "        self.max_repeats = max_repeats\n",
    "        self.count = 0\n",
    "\n",
    "    def __iter__(self):\n",
    "        return self\n",
    "\n",
    "    def __next__(self):\n",
    "        if self.count >= self.max_repeats:\n",
    "            raise StopIteration\n",
    "        self.count += 1\n",
    "        return self.value"
   ]
  },
  {
   "cell_type": "code",
   "execution_count": null,
   "metadata": {},
   "outputs": [],
   "source": [
    "# for-in loop\n",
    "repeater = BoundedRepeater('Hello', 3)\n",
    "iterator = iter(repeater)\n",
    "while True:\n",
    "    try:\n",
    "        item = next(iterator)\n",
    "    except StopIteration:\n",
    "        break\n",
    "    print(item)\n",
    "\n"
   ]
  },
  {
   "cell_type": "markdown",
   "metadata": {},
   "source": [
    "* iterators in Python 2.x are syntactically different, so if you need the compatibility, look at it"
   ]
  },
  {
   "cell_type": "markdown",
   "metadata": {},
   "source": [
    "## itertools\n",
    "* a collection of tools for handling iterators\n",
    "    * iterators are data types that can be used in a `for` loop\n",
    "    * the most common iterator in Python is the list\n",
    "* for detailed explanation of what is an iterable, look at [Python 3 glossary](https://docs.python.org/3/glossary.html#term-iterable)\n",
    "\n",
    "* probably not enough to know the definitions of the functions it contains\n",
    "    * how to copose these functions to create fast, memory-efficient, and good-looking code\n",
    "\n",
    "* the functions in itertools \"operate\" on iterators to produce more complex iterators   \n",
    "\n",
    "* used for creating and using iterators\n",
    "    * infinite iterators: ``count``, ``cycle``, ``repeat``\n",
    "    * finite iterators: ``accumulate``, ``chain``, ``zip_longest``\n",
    "    * combination generators: `product`, `permutations`, `combination` "
   ]
  },
  {
   "cell_type": "code",
   "execution_count": null,
   "metadata": {},
   "outputs": [],
   "source": [
    "import itertools"
   ]
  },
  {
   "cell_type": "code",
   "execution_count": null,
   "metadata": {},
   "outputs": [],
   "source": [
    "# zip example (zip is in-built, not an itertool method)\n",
    "list(zip([1, 2, 3], ['a', 'b', 'c']))"
   ]
  },
  {
   "cell_type": "markdown",
   "metadata": {},
   "source": [
    "\n",
    "\n",
    "* both lists above are iterable\n",
    "* zip() function works:\n",
    "    * by calling iter() on each of its arguments\n",
    "    * then advancing each iterator returned by iter() with next()\n",
    "    * and finally aggregating the results into tuples\n",
    "* the iterator returned by zip() iterates over these tuples\n",
    "* in general, when iter() called on an iterable, returns an iterator object\n",
    "\n"
   ]
  },
  {
   "cell_type": "code",
   "execution_count": null,
   "metadata": {},
   "outputs": [],
   "source": [
    "type(iter([1,2,3,4]))"
   ]
  },
  {
   "cell_type": "code",
   "execution_count": null,
   "metadata": {},
   "outputs": [],
   "source": [
    "# another iterator\n",
    "list(map(len, ['abc', 'de', 'fghi']))"
   ]
  },
  {
   "cell_type": "markdown",
   "metadata": {},
   "source": [
    "* as an example of an iterator algebra\n",
    "\n",
    "    * compose zip() and map() to produce an iterator over combinations of elements in more than one iterable"
   ]
  },
  {
   "cell_type": "code",
   "execution_count": null,
   "metadata": {},
   "outputs": [],
   "source": [
    "list(map(sum, zip([1, 2, 3], [4, 5, 6])))"
   ]
  },
  {
   "cell_type": "markdown",
   "metadata": {},
   "source": [
    "* a collection of building blocks that can be combined to form specialized “data pipelines”\n",
    "* advantages:\n",
    "    improved memory efficiency (via lazy evaluation)\n",
    "    faster execution time\n",
    "* look at the following example\n",
    "\n"
   ]
  },
  {
   "cell_type": "code",
   "execution_count": null,
   "metadata": {},
   "outputs": [],
   "source": [
    "def naive_grouper(inputs, n):\n",
    "    num_groups = len(inputs) // n\n",
    "    return [tuple(inputs[i*n:(i+1)*n]) for i in range(num_groups)]"
   ]
  },
  {
   "cell_type": "code",
   "execution_count": null,
   "metadata": {},
   "outputs": [],
   "source": [
    "nums = [1, 2, 3, 4, 5, 6, 7, 8, 9, 10]\n",
    "naive_grouper(nums, 2)"
   ]
  },
  {
   "cell_type": "markdown",
   "metadata": {},
   "source": [
    "\n",
    "\n",
    "* what if we pass a list of million elements?\n",
    "    * we will need a whole lot of available memory\n",
    "* iterators to save the day"
   ]
  },
  {
   "cell_type": "code",
   "execution_count": null,
   "metadata": {},
   "outputs": [],
   "source": [
    "def better_grouper(inputs, n):\n",
    "    # creates a list of n references to the same iterator\n",
    "    iters = [iter(inputs)] * n\n",
    "    return zip(*iters)"
   ]
  },
  {
   "cell_type": "markdown",
   "metadata": {},
   "source": [
    "\n",
    "\n",
    "SIDENOTE on asterisk (`*`) usecases:\n",
    "\n",
    "* multiplication and power\n",
    "* extending the list-type containers\n",
    "* unpacking the containers\n",
    "    * keyword arguments\n",
    "\n"
   ]
  },
  {
   "cell_type": "code",
   "execution_count": null,
   "metadata": {},
   "outputs": [],
   "source": [
    "iters"
   ]
  },
  {
   "cell_type": "code",
   "execution_count": null,
   "metadata": {},
   "outputs": [],
   "source": [
    "iters = [iter(nums)] * 2\n",
    "list(id(itr) for itr in iters)  # the same iterator => IDs are the same"
   ]
  },
  {
   "cell_type": "markdown",
   "metadata": {},
   "source": [
    "\n",
    "\n",
    "* the first element is taken from the \"first\" iterator\n",
    "* the \"second iterator now starts at 2\"(the second element), since it is just a reference to the \"first\" iterator, i.e. advanced by one step\n",
    "    * the first tuple produced by zip() is (1, 2)\n",
    "* \"both\" iterators in iters start at 3, so when zip() pulls 3 from the \"first\" iterator, it gets 4 from the \"second\" to produce the tuple (3, 4)\n",
    "* this process continues until zip() finally produces (9, 10) and \"both\" iterators in iters are exhausted\n",
    "\n"
   ]
  },
  {
   "cell_type": "code",
   "execution_count": null,
   "metadata": {},
   "outputs": [],
   "source": [
    "nums = [1, 2, 3, 4, 5, 6, 7, 8, 9, 10]\n",
    "# an iterator over pairs of corresponding elements of each iterator in iters\n",
    "list(better_grouper(nums, 2))"
   ]
  },
  {
   "cell_type": "markdown",
   "metadata": {},
   "source": [
    "\n",
    "\n",
    "* the main advantages:\n",
    "    * can take an iterable as in argument (even infinite iterator)\n",
    "    * by returning an iterator rather than a list, we can process enormous iterables without trouble and use less memory\n",
    "* what's missing?\n",
    "    * what if the value passed to the second argument isn't a factor of the length of the iterable in the first argument?\n",
    "\n"
   ]
  },
  {
   "cell_type": "code",
   "execution_count": null,
   "metadata": {},
   "outputs": [],
   "source": [
    "# 10 is missing from the grouped output because zip stops the moment the shortest iterable passed to it is exhausted\n",
    "list(better_grouper(nums, 3))"
   ]
  },
  {
   "cell_type": "markdown",
   "metadata": {},
   "source": [
    "* itertools.zip_longest() to the rescue\n",
    "\n"
   ]
  },
  {
   "cell_type": "code",
   "execution_count": null,
   "metadata": {},
   "outputs": [],
   "source": [
    "x = [1, 2, 3, 4, 5]\n",
    "y = ['a', 'b', 'c']\n",
    "\n",
    "print(list(zip(x, y)))\n",
    "list(itertools.zip_longest(x, y,  fillvalue='Filling the void.'))"
   ]
  },
  {
   "cell_type": "markdown",
   "metadata": {},
   "source": [
    "\n",
    "* there is plenty of other methods in itertools, have a look at them [here](https://docs.python.org/3/library/itertools.html)\n",
    "* look at more [itertools recipes](https://docs.python.org/3.6/library/itertools.html#itertools-recipes)\n",
    "\n",
    "* there is also plenty of other efficient built-in datatypes:\n",
    "    * `namedtuple`: tuple subclasses with named fields\n",
    "    * `deque`: list-like container with fast appends and pop\n",
    "    * `Counter`: dict for counting hashable objects\n",
    "    * `OrderDict`: dict that retains order of entries\n",
    "    * `defaultdict`: dict that calls a factory function to supply missing values\n",
    "\n",
    "* if the built-in general purpose dict, list, set and tuple are not enough\n",
    "    * use collections module: specialized container datatypes\n",
    "\n",
    "* built-in `sets` datatype\n",
    "* `sets` methods:\n",
    "    * `intersection()`\n",
    "    * `difference()`\n",
    "    * `symetric_difference()`\n",
    "    * `union()`\n",
    "\n",
    "* fast membership testing:\n",
    "    * check if value exists in a sequence (or not) using `in` operator|"
   ]
  },
  {
   "cell_type": "markdown",
   "metadata": {},
   "source": [
    "## Eliminating loops\n",
    "* using loops is not *necessary* a bad practice\n",
    "* looping patterns:\n",
    "    * `for` loop: iterate over sequence piece-by-piece\n",
    "    * `while` loop: repeat loop as long as condition is met\n",
    "    * \"nested loops: use one loop inside another loop\n",
    "    * Costly!\n",
    "* benefits of eliminating loops:\n",
    "    * fewer lines of code\n",
    "    * easier to interpret (code readability)\n",
    "    * \"Flat is better than nested.\"\n",
    "    \n",
    "### Eliminating loops with built-ins\n",
    "* list comprehension\n",
    "* `*map` functionality\n",
    "\n",
    "## Writing better loops\n",
    "* sometimes you can't eliminate the loop\n",
    "* how to do it better\n",
    "    * understand what is being done with each loop iteration (to be sure we are not doing anything unnecessary)\n",
    "    * anything that can be done once, move it outside the loop\n",
    "        * move one-time calculation outside (above) the loop\n",
    "        * use holistic conversions outside (below) the loop\n",
    "    \n"
   ]
  },
  {
   "cell_type": "code",
   "execution_count": null,
   "metadata": {},
   "outputs": [],
   "source": []
  }
 ],
 "metadata": {
  "kernelspec": {
   "display_name": "Python 3",
   "language": "python",
   "name": "python3"
  },
  "language_info": {
   "codemirror_mode": {
    "name": "ipython",
    "version": 3
   },
   "file_extension": ".py",
   "mimetype": "text/x-python",
   "name": "python",
   "nbconvert_exporter": "python",
   "pygments_lexer": "ipython3",
   "version": "3.9.4"
  }
 },
 "nbformat": 4,
 "nbformat_minor": 4
}
